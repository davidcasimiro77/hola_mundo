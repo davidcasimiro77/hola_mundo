{
  "nbformat": 4,
  "nbformat_minor": 0,
  "metadata": {
    "colab": {
      "provenance": []
    },
    "kernelspec": {
      "name": "python3",
      "display_name": "Python 3"
    },
    "language_info": {
      "name": "python"
    }
  },
  "cells": [
    {
      "cell_type": "markdown",
      "source": [
        "# David Casimiro Herrera"
      ],
      "metadata": {
        "id": "f0xeQMhPaGuK"
      }
    },
    {
      "cell_type": "markdown",
      "source": [
        "En una nueva celda de código, crea la lista de nombre tenistas con los siguientes elementos: Novak Djokovic, Rafael Nadal, Roger Federer, Pete Sampras, Roy Emerson. Imprime por pantalla la lista."
      ],
      "metadata": {
        "id": "q9kHbDYFhKNl"
      }
    },
    {
      "cell_type": "code",
      "source": [
        "tenistas = [\"Novak Djokovic\", \"Rafael Nadal\", \"Roger Federer\", \"Pete Sampras\", \"Roy Emerson\"]\n",
        "\n",
        "print (tenistas)"
      ],
      "metadata": {
        "colab": {
          "base_uri": "https://localhost:8080/"
        },
        "id": "cBG_DiLiaRRy",
        "outputId": "9dd7f5c9-bb55-4d03-9e43-18fbc45b504f"
      },
      "execution_count": 1,
      "outputs": [
        {
          "output_type": "stream",
          "name": "stdout",
          "text": [
            "['Novak Djokovic', 'Rafael Nadal', 'Roger Federer', 'Pete Sampras', 'Roy Emerson']\n"
          ]
        }
      ]
    },
    {
      "cell_type": "markdown",
      "source": [
        "En una nueva celda de código, crea la lista de nombre grand_slams con los siguientes elementos: 24, 22, 20, 14, 12. Imprime por pantalla la lista."
      ],
      "metadata": {
        "id": "Z2PhZz7khVSA"
      }
    },
    {
      "cell_type": "code",
      "source": [
        "grand_slams = [24,22,20,14,12]\n",
        "\n",
        "print (grand_slams)"
      ],
      "metadata": {
        "colab": {
          "base_uri": "https://localhost:8080/"
        },
        "id": "2EhiYXT_arkT",
        "outputId": "88d8d2f9-c69e-40a7-d20c-f4816fbdf81f"
      },
      "execution_count": 2,
      "outputs": [
        {
          "output_type": "stream",
          "name": "stdout",
          "text": [
            "[24, 22, 20, 14, 12]\n"
          ]
        }
      ]
    },
    {
      "cell_type": "markdown",
      "source": [
        "En una nueva celda de código, crea un diccionario de nombre dict donde la clave de cada elemento sea el nombre de un tenista y su valor el número de Grand Slams ganados. Imprime por pantalla el diccionario.\n"
      ],
      "metadata": {
        "id": "sp1z1meNhcrs"
      }
    },
    {
      "cell_type": "code",
      "source": [
        "dict = {}\n",
        "\n",
        "for i in range(len(tenistas)):\n",
        "    dict[tenistas[i]] = grand_slams[i]\n",
        "\n",
        "print(dict)"
      ],
      "metadata": {
        "colab": {
          "base_uri": "https://localhost:8080/"
        },
        "id": "BNjnH_h0a5Dw",
        "outputId": "5b03ba60-8f6c-48f5-9402-fd47d6f5d73f"
      },
      "execution_count": 15,
      "outputs": [
        {
          "output_type": "stream",
          "name": "stdout",
          "text": [
            "{'Novak Djokovic': 24, 'Rafael Nadal': 22, 'Roger Federer': 20, 'Pete Sampras': 14, 'Roy Emerson': 12}\n"
          ]
        }
      ]
    },
    {
      "cell_type": "markdown",
      "source": [
        "En una nueva celda de código, escribe las sentencias Python necesarias para mostrar los datos del diccionario dict en la forma Nombre del jugador: X Grand Slams ganados. El resultado debería ser como sigue:\n",
        "Novak Djokovic: 24 Grand Slams ganados.\n",
        "Rafael Nadal: 22 Grand Slams ganados.\n",
        "..."
      ],
      "metadata": {
        "id": "e9X2CSWohglJ"
      }
    },
    {
      "cell_type": "code",
      "source": [
        "for c,v in dict.items():\n",
        "  print(f\"{c}: {v} Grand Slams ganados.\")"
      ],
      "metadata": {
        "colab": {
          "base_uri": "https://localhost:8080/"
        },
        "id": "6_hYQTCsf7ET",
        "outputId": "602a1cee-d230-4f7d-fafb-db6190e42394"
      },
      "execution_count": 23,
      "outputs": [
        {
          "output_type": "stream",
          "name": "stdout",
          "text": [
            "Novak Djokovic: 24 Grand Slams ganados.\n",
            "Rafael Nadal: 22 Grand Slams ganados.\n",
            "Roger Federer: 20 Grand Slams ganados.\n",
            "Pete Sampras: 14 Grand Slams ganados.\n",
            "Roy Emerson: 12 Grand Slams ganados.\n"
          ]
        }
      ]
    }
  ]
}