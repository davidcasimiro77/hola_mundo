{
  "nbformat": 4,
  "nbformat_minor": 0,
  "metadata": {
    "colab": {
      "provenance": [],
      "authorship_tag": "ABX9TyNLKWc1EqtH1iGVaeKOG1ba",
      "include_colab_link": true
    },
    "kernelspec": {
      "name": "python3",
      "display_name": "Python 3"
    },
    "language_info": {
      "name": "python"
    }
  },
  "cells": [
    {
      "cell_type": "markdown",
      "metadata": {
        "id": "view-in-github",
        "colab_type": "text"
      },
      "source": [
        "<a href=\"https://colab.research.google.com/github/davidcasimiro77/hola_mundo/blob/main/iabd_ut01_tarea1.ipynb\" target=\"_parent\"><img src=\"https://colab.research.google.com/assets/colab-badge.svg\" alt=\"Open In Colab\"/></a>"
      ]
    },
    {
      "cell_type": "markdown",
      "source": [
        "# David Casimiro Herrera"
      ],
      "metadata": {
        "id": "f0xeQMhPaGuK"
      }
    },
    {
      "cell_type": "markdown",
      "source": [
        "En una nueva celda de código, crea la lista de nombre tenistas con los siguientes elementos: Novak Djokovic, Rafael Nadal, Roger Federer, Pete Sampras, Roy Emerson. Imprime por pantalla la lista."
      ],
      "metadata": {
        "id": "q9kHbDYFhKNl"
      }
    },
    {
      "cell_type": "code",
      "source": [
        "tenistas = [\"Novak Djokovic\", \"Rafael Nadal\", \"Roger Federer\", \"Pete Sampras\", \"Roy Emerson\"]\n",
        "\n",
        "print (tenistas)"
      ],
      "metadata": {
        "colab": {
          "base_uri": "https://localhost:8080/"
        },
        "id": "cBG_DiLiaRRy",
        "outputId": "0bade999-97a8-4f38-c1ce-514d32e26dc2"
      },
      "execution_count": null,
      "outputs": [
        {
          "output_type": "stream",
          "name": "stdout",
          "text": [
            "['Novak Djokovic', 'Rafael Nadal', 'Roger Federer', 'Pete Sampras', 'Roy Emerson']\n"
          ]
        }
      ]
    },
    {
      "cell_type": "markdown",
      "source": [
        "En una nueva celda de código, crea la lista de nombre grand_slams con los siguientes elementos: 24, 22, 20, 14, 12. Imprime por pantalla la lista."
      ],
      "metadata": {
        "id": "Z2PhZz7khVSA"
      }
    },
    {
      "cell_type": "code",
      "source": [
        "grand_slams = [24,22,20,14,12]\n",
        "\n",
        "print (grand_slams)"
      ],
      "metadata": {
        "colab": {
          "base_uri": "https://localhost:8080/"
        },
        "id": "2EhiYXT_arkT",
        "outputId": "c455ea07-9b34-4973-f8f4-41357163a70a"
      },
      "execution_count": null,
      "outputs": [
        {
          "output_type": "stream",
          "name": "stdout",
          "text": [
            "[24, 22, 20, 14, 12]\n"
          ]
        }
      ]
    },
    {
      "cell_type": "markdown",
      "source": [
        "En una nueva celda de código, crea un diccionario de nombre dict donde la clave de cada elemento sea el nombre de un tenista y su valor el número de Grand Slams ganados. Imprime por pantalla el diccionario.\n"
      ],
      "metadata": {
        "id": "sp1z1meNhcrs"
      }
    },
    {
      "cell_type": "code",
      "source": [
        "dict = {}\n",
        "\n",
        "for i in range(len(tenistas)):\n",
        "    dict[tenistas[i]] = grand_slams[i]\n",
        "\n",
        "print(dict)\n",
        "\n",
        "\n",
        "dict1 = dict(zip(tenistas, grand_slams))\n",
        "print(dict1)"
      ],
      "metadata": {
        "colab": {
          "base_uri": "https://localhost:8080/",
          "height": 245
        },
        "id": "BNjnH_h0a5Dw",
        "outputId": "e2513b06-22ff-4c84-c9ea-ac75b650b055"
      },
      "execution_count": 38,
      "outputs": [
        {
          "output_type": "stream",
          "name": "stdout",
          "text": [
            "{'Novak Djokovic': 24, 'Rafael Nadal': 22, 'Roger Federer': 20, 'Pete Sampras': 14, 'Roy Emerson': 12}\n"
          ]
        },
        {
          "output_type": "error",
          "ename": "TypeError",
          "evalue": "ignored",
          "traceback": [
            "\u001b[0;31m---------------------------------------------------------------------------\u001b[0m",
            "\u001b[0;31mTypeError\u001b[0m                                 Traceback (most recent call last)",
            "\u001b[0;32m<ipython-input-38-4342a89803e6>\u001b[0m in \u001b[0;36m<cell line: 9>\u001b[0;34m()\u001b[0m\n\u001b[1;32m      7\u001b[0m \u001b[0;34m\u001b[0m\u001b[0m\n\u001b[1;32m      8\u001b[0m \u001b[0;34m\u001b[0m\u001b[0m\n\u001b[0;32m----> 9\u001b[0;31m \u001b[0mdict1\u001b[0m \u001b[0;34m=\u001b[0m \u001b[0mdict\u001b[0m\u001b[0;34m(\u001b[0m\u001b[0mzip\u001b[0m\u001b[0;34m(\u001b[0m\u001b[0mtenistas\u001b[0m\u001b[0;34m,\u001b[0m \u001b[0mgrand_slams\u001b[0m\u001b[0;34m)\u001b[0m\u001b[0;34m)\u001b[0m\u001b[0;34m\u001b[0m\u001b[0;34m\u001b[0m\u001b[0m\n\u001b[0m\u001b[1;32m     10\u001b[0m \u001b[0mprint\u001b[0m\u001b[0;34m(\u001b[0m\u001b[0mdict1\u001b[0m\u001b[0;34m)\u001b[0m\u001b[0;34m\u001b[0m\u001b[0;34m\u001b[0m\u001b[0m\n",
            "\u001b[0;31mTypeError\u001b[0m: 'dict' object is not callable"
          ]
        }
      ]
    },
    {
      "cell_type": "markdown",
      "source": [
        "En una nueva celda de código, escribe las sentencias Python necesarias para mostrar los datos del diccionario dict en la forma Nombre del jugador: X Grand Slams ganados. El resultado debería ser como sigue:\n",
        "Novak Djokovic: 24 Grand Slams ganados.\n",
        "Rafael Nadal: 22 Grand Slams ganados.\n",
        "..."
      ],
      "metadata": {
        "id": "e9X2CSWohglJ"
      }
    },
    {
      "cell_type": "code",
      "source": [
        "for c,v in dict.items():\n",
        "  print(f\"{c}: {v} Grand Slams ganados.\")"
      ],
      "metadata": {
        "colab": {
          "base_uri": "https://localhost:8080/"
        },
        "id": "6_hYQTCsf7ET",
        "outputId": "22ee1c09-e34e-4105-d5c9-98571ba7f0b9"
      },
      "execution_count": null,
      "outputs": [
        {
          "output_type": "stream",
          "name": "stdout",
          "text": [
            "Novak Djokovic: 24 Grand Slams ganados.\n",
            "Rafael Nadal: 22 Grand Slams ganados.\n",
            "Roger Federer: 20 Grand Slams ganados.\n",
            "Pete Sampras: 14 Grand Slams ganados.\n",
            "Roy Emerson: 12 Grand Slams ganados.\n"
          ]
        }
      ]
    }
  ]
}